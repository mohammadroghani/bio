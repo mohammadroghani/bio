{
 "cells": [
  {
   "cell_type": "code",
   "execution_count": 1,
   "metadata": {
    "collapsed": false
   },
   "outputs": [
    {
     "data": {
      "text/html": [
       "<style>.rendered_html, p{direction:rtl; text-align:right !important}</style>"
      ],
      "text/plain": [
       "<IPython.core.display.HTML object>"
      ]
     },
     "execution_count": 1,
     "metadata": {},
     "output_type": "execute_result"
    }
   ],
   "source": [
    "from IPython.core.display import HTML\n",
    "HTML(\"<style>.rendered_html, p{direction:rtl; text-align:right !important}</style>\")"
   ]
  },
  {
   "cell_type": "markdown",
   "metadata": {},
   "source": [
    "# توالی\n",
    "## ۲.۱\n",
    "در این قسمت داده ها را از بخش resources پیازا دریافت کرده و در فولدر resources پرو‌ژه ذخیره سازی شده است.\n",
    "## ۲.۲\n",
    "در این بخش هدف پیدا کردن جایگاه هر ژن در هر کدام از گونه‌های ویروس ابولا است. برای این منظور ابتدا یک تابع با نام align پیاده سازی کریم که دو رشته را به عنوان ورودی می‌گیرد و جایگاهی از رشته اول را پیدا می‌کند که بهترین تطابق را با رشته دوم دارد. برای پیاده سازی این تابع از برنامه ریزی پویا استفاده کرده‌ایم و تفاوت آن با هم‌ترازی سراسری در این است که هزینه‌ای برای فاصله‌ای که از اول و آخر رشته اول تطابق پیدا نمی‌کند در نظر گرفته نمی‌شود و این کار به این طریق انجام شده است که در ابتدا $dp[i][0]$ ها را به ازای همه‌ی $i$ ها برابر با صفر قرار می‌دهیم. بعد از پیدا کردن بیشترین امتیاز ممکن با توجه به این‌که این مقدار مربوط به کدام قسمت از ژنوم است جایگاه شروع و پایان ژن را پیدا می‌کنیم. هزینه هر تطبیق برابر با ۱ و هزینه هر عدم تطبیق برابر با -۲ و هزینه هر فاصله برابر با ۳ است که به راحتی این مقادیر در کد قابل تغییر است. سپس به ازای هر ژن و هر ژنوم این تابع را صدا می‌زنیم."
   ]
  },
  {
   "cell_type": "code",
   "execution_count": null,
   "metadata": {
    "collapsed": true
   },
   "outputs": [],
   "source": [
    "#include<iostream>\n",
    "#include<fstream>\n",
    "#include<sstream>\n",
    "#include<vector>\n",
    "\n",
    "using namespace std;\n",
    "\n",
    "int dp[20000][8000];\n",
    "const int inf=1e9;\n",
    "\n",
    "\n",
    "/**\n",
    "\tfinding best position for string t in string s with maximum score\n",
    "\tmatch = 1\n",
    "\tmismatch = -2\n",
    "\tgap = -3\n",
    "\treturn index of start and end of substring that match to t\n",
    "  **/\n",
    "pair<int,int> align(string s, string t){\n",
    "\tint match=1,mismatch=-2,gap=-3,ret=-1;\n",
    "\t\n",
    "\t//initializing dynamic table\n",
    "\tfor(int i=0;i<=s.size();i++)for(int j=0;j<=t.size();j++)dp[i][j]=-inf;\n",
    "\tfor(int i=0;i<=s.size();i++)dp[i][0]=0;\n",
    "\tfor(int j=1;j<=t.size();j++)dp[0][j]=dp[0][j-1]+gap;\n",
    "\n",
    "\t//filling table\n",
    "\tfor(int i=1;i<=s.size();i++){\n",
    "\t\tfor(int j=1;j<=t.size();j++){\n",
    "\t\t\tdp[i][j]=max(dp[i-1][j],dp[i][j-1])+gap;\n",
    "\t\t\tif(s[i-1]==t[j-1])dp[i][j]=max(dp[i][j],dp[i-1][j-1]+match);\n",
    "\t\t\telse dp[i][j]=max(dp[i][j],dp[i-1][j-1]+mismatch);\n",
    "\t\t}\n",
    "\t}\n",
    "\n",
    "\t//finding best match\n",
    "\tint mx=-inf;\n",
    "\tint x=-1,y=t.size();\n",
    "\tfor(int i=0;i<=s.size();i++){\n",
    "\t\tif(dp[i][t.size()]>mx){\n",
    "\t\t\tmx=dp[i][t.size()];\n",
    "\t\t\tx=i;\n",
    "\t\t}\n",
    "\t}\n",
    "\tret=x;\n",
    "\n",
    "\t//finding index of start and end\n",
    "\twhile(y>0){\n",
    "\t\tif(x>0 && dp[x-1][y]+gap==dp[x][y]){\n",
    "\t\t\tx--;\n",
    "\t\t}\n",
    "\t\telse if(y>0 && dp[x][y-1]+gap==dp[x][y]){\n",
    "\t\t\ty--;\n",
    "\t\t}\n",
    "\t\telse if(x>0 && y>0 && s[x-1]==t[y-1] && dp[x][y]==dp[x-1][y-1]+match){\n",
    "\t\t\tx--;\n",
    "\t\t\ty--;\n",
    "\t\t}\n",
    "\t\telse if(x>0 && y>0 && s[x-1]!=t[y-1] && dp[x][y]==dp[x-1][y-1]+mismatch){\n",
    "\t\t\tx--;\n",
    "\t\t\ty--;\n",
    "\t\t}\n",
    "\t}\n",
    "\treturn make_pair(x,ret);\n",
    "}\n",
    "\n",
    "//names of ebola\n",
    "string names[]={\n",
    "\t\"Zaire\", \"TaiForest\", \"Sudan\", \"Reston\", \"Bundibugyo\"\n",
    "};\n",
    "\n",
    "int main(){\n",
    "\tvector<pair<string,string> > v;\n",
    "\t//reading genes of marburg\n",
    "\tstring last=\"\";\n",
    "\tstring name=\"resources/Marburg_Genes.fasta\";\n",
    "\tifstream cin(name);\n",
    "\tofstream cout(\"output/gene_alignment\");\n",
    "\tstring tmp,t;\n",
    "\tcin>>tmp;\n",
    "\tlast=tmp.substr(1,tmp.size()-1);\n",
    "\tgetline(cin,tmp);\n",
    "\twhile(getline(cin,tmp)){\n",
    "\t\tif(tmp[0]=='>'){\n",
    "\t\t\tv.push_back(make_pair(last,t));\n",
    "\t\t\tt=\"\";\n",
    "\t\t\tlast=tmp.substr(1,tmp.size()-2);\n",
    "\t\t\tcontinue;\n",
    "\t\t}\n",
    "\t\ttmp=tmp.substr(0,tmp.size()-1);\n",
    "\t\tt+=tmp;\n",
    "\t}\n",
    "\tv.push_back(make_pair(last,t));\n",
    "\t//find best match for every pair of gene and ebola\n",
    "\tfor(int i=0;i<5;i++){\n",
    "\t\tfor(int j=0;j<7;j++){\n",
    "\t\t\tname=\"resources/\"+names[i]+\"_genome.fasta\";\n",
    "\t\t\tifstream cin(name);\n",
    "\t\t\tt=\"\";\n",
    "\t\t\tcin>>tmp;\n",
    "\t\t\tlast=tmp.substr(1,tmp.size()-1);\n",
    "\t\t\tgetline(cin,tmp);\n",
    "\t\t\twhile(getline(cin,tmp)){\n",
    "\t\t\t\ttmp=tmp.substr(0,tmp.size()-1);\n",
    "\t\t\t\tt+=tmp;\n",
    "\t\t\t}\n",
    "\t\t\tpair<int,int> pos=align(t,v[j].second);\n",
    "\t\t\tcout<<names[i]<<\" \"<<v[j].first<<\" \"<<pos.first<<\" \"<<pos.second<<endl;\n",
    "\t\t}\n",
    "\t}\n",
    "\treturn 0;\n",
    "}\n"
   ]
  },
  {
   "cell_type": "markdown",
   "metadata": {},
   "source": [
    "که خروجی کد بالا به شکل زیر می‌شود که به ترتیب در هر خط نام ژنوم و ژن مورد نظر و بازه‌ای که با آن تطابق پیدا کرده است آمده است. این خروجی در فایل gene_alignment ذخیره شده است."
   ]
  },
  {
   "cell_type": "code",
   "execution_count": null,
   "metadata": {
    "collapsed": true
   },
   "outputs": [],
   "source": [
    "Zaire NP 449 3130\n",
    "Zaire VP35 3031 4616\n",
    "Zaire VP40 4389 5803\n",
    "Zaire GP 5990 8681\n",
    "Zaire VP30 8414 9626\n",
    "Zaire VP24 10166 11400\n",
    "Zaire L 11385 18786\n",
    "TaiForest NP 484 3227\n",
    "TaiForest VP35 3025 4622\n",
    "TaiForest VP40 15366 16679\n",
    "TaiForest GP 5959 8715\n",
    "TaiForest VP30 8402 9620\n",
    "TaiForest VP24 10153 11408\n",
    "TaiForest L 11371 18753\n",
    "Sudan NP 471 3102\n",
    "Sudan VP35 3046 4608\n",
    "Sudan VP40 4353 5732\n",
    "Sudan GP 5939 8672\n",
    "Sudan VP30 8332 9556\n",
    "Sudan VP24 10087 11350\n",
    "Sudan L 11333 18727\n",
    "Reston NP 454 3171\n",
    "Reston VP35 3085 4616\n",
    "Reston VP40 4395 5757\n",
    "Reston GP 5975 8751\n",
    "Reston VP30 8373 9614\n",
    "Reston VP24 10126 11339\n",
    "Reston L 11356 18741\n",
    "Bundibugyo NP 430 3238\n",
    "Bundibugyo VP35 3007 4598\n",
    "Bundibugyo VP40 9993 11360\n",
    "Bundibugyo GP 5956 8684\n",
    "Bundibugyo VP30 8385 9601\n",
    "Bundibugyo VP24 10153 11375\n",
    "Bundibugyo L 11387 18737"
   ]
  },
  {
   "cell_type": "markdown",
   "metadata": {},
   "source": [
    "## ۲.۳\n",
    "در این بخش هدف پیدا کردن فاصله ویرایش بین هر دو گونه و به ازای هر ژن است. برای این منظور ابتدا یک تابع با نام align پیاده سازی کریم که دو رشته را به عنوان ورودی می‌گیرد وفاصله تغییرات آن‌ها را به عنوان خروجی برمی‌گرداند. برای پیاده سازی این تابع از برنامه ریزی پویا استفاده کرده‌ایم و تطابق سراسر بین آن دو ژن را به دست آوردیم. هزینه هر تطبیق برابر با ۰ و هزینه هر عدم تطبیق برابر با ۱ و هزینه هر فاصله برابر با ۱ است که به راحتی این مقادیر در کد قابل تغییر است. سپس به ازای هر ژن یک ماتریس به وجود آوردیم و فاصله دو به دوی گونه ها در آن ژن را درون آن ماتریس ذخیره کردیم. سپس هر کدام ازاین ماترس‌ها را در یک فایل csv که با نام آن ژن نام گذاری شده است ذخیره کردیم."
   ]
  },
  {
   "cell_type": "code",
   "execution_count": null,
   "metadata": {
    "collapsed": true
   },
   "outputs": [],
   "source": [
    "#include<iostream>\n",
    "#include<fstream>\n",
    "#include<sstream>\n",
    "#include<vector>\n",
    "#include<map>\n",
    "\n",
    "using namespace std;\n",
    "\n",
    "int dp[20000][20000];\n",
    "int mat[7][5][5];\n",
    "const int inf=1e9;\n",
    "\n",
    "map<pair<string,string>, pair<int,int> > m;  \n",
    "\n",
    "/**\n",
    "  finding edit distance of string s and t\n",
    "  match = 0\n",
    "  mismatch = 1\n",
    "  gap = 1\n",
    "  return minimum edit distance\n",
    "  **/\n",
    "int align(string s, string t){\n",
    "\tint match=0,mismatch=1,gap=1,ret=inf;\n",
    "\tfor(int i=0;i<=s.size();i++)for(int j=0;j<=t.size();j++)dp[i][j]=inf;\n",
    "\tfor(int i=0;i<=s.size();i++)dp[i][0]=i;\n",
    "\tfor(int j=1;j<=t.size();j++)dp[0][j]=j;\n",
    "\tfor(int i=1;i<=s.size();i++){\n",
    "\t\tfor(int j=1;j<=t.size();j++){\n",
    "\t\t\tdp[i][j]=min(dp[i-1][j],dp[i][j-1])+gap;\n",
    "\t\t\tif(s[i-1]==t[j-1])dp[i][j]=min(dp[i][j],dp[i-1][j-1]+match);\n",
    "\t\t\telse dp[i][j]=min(dp[i][j],dp[i-1][j-1]+mismatch);\n",
    "\t\t}\n",
    "\t}\n",
    "\treturn dp[s.size()][t.size()];\n",
    "}\n",
    "\n",
    "//names of ebola\n",
    "string names[]={\n",
    "\t\"Zaire\", \"TaiForest\", \"Sudan\", \"Reston\", \"Bundibugyo\"\n",
    "};\n",
    "\n",
    "//names of genes\n",
    "string Gene[]={\n",
    "\t\"NP\", \"VP35\", \"VP40\", \"GP\", \"VP30\", \"VP24\", \"L\"\n",
    "};\n",
    "\n",
    "int main(){\n",
    "\tifstream cin(\"output/gene_alignment\");\n",
    "\tstring x,y;\n",
    "\tint lo,hi;\n",
    "\twhile(cin>>x>>y>>lo>>hi){\n",
    "\t\tm[make_pair(x,y)]=make_pair(lo,hi);\n",
    "\t}\n",
    "\t//finding edit distance for every triple of (gene,genome,genome)\n",
    "\tfor(int k=0;k<7;k++){\n",
    "\t\tfor(int i=0;i<5;i++){\n",
    "\t\t\tstring name=\"resources/\"+names[i]+\"_genome.fasta\";\n",
    "\t\t\tifstream cin(name);\n",
    "\t\t\tstring t=\"\";\n",
    "\t\t\tstring tmp;\n",
    "\t\t\tcin>>tmp;\n",
    "\t\t\tstring last=tmp.substr(1,tmp.size()-1);\n",
    "\t\t\tgetline(cin,tmp);\n",
    "\t\t\twhile(getline(cin,tmp)){\n",
    "\t\t\t\ttmp=tmp.substr(0,tmp.size()-1);\n",
    "\t\t\t\tt+=tmp;\n",
    "\t\t\t}\n",
    "\t\t\tstring left=t;\n",
    "\t\t\tfor(int j=0;j<5;j++){\n",
    "\t\t\t\tname=\"resources/\"+names[j]+\"_genome.fasta\";\n",
    "\t\t\t\tifstream cin(name);\n",
    "\t\t\t\tt=\"\";\n",
    "\t\t\t\tcin>>tmp;\n",
    "\t\t\t\tlast=tmp.substr(1,tmp.size()-1);\n",
    "\t\t\t\tgetline(cin,tmp);\n",
    "\t\t\t\twhile(getline(cin,tmp)){\n",
    "\t\t\t\t\ttmp=tmp.substr(0,tmp.size()-1);\n",
    "\t\t\t\t\tt+=tmp;\n",
    "\t\t\t\t}\n",
    "\t\t\t\tstring right=t;\n",
    "\t\t\t\tpair<int,int> range_left=m[make_pair(names[i],Gene[k])];\n",
    "\t\t\t\tpair<int,int> range_right=m[make_pair(names[j],Gene[k])];\n",
    "\t\t\t\tstring new_left=left.substr(range_left.first,range_left.second-range_left.first);\n",
    "\t\t\t\tright=right.substr(range_right.first,range_right.second-range_right.first);\n",
    "\t\t\t\tmat[k][i][j]=align(new_left,right);\n",
    "\t\t\t}\n",
    "\t\t}\n",
    "\t}\n",
    "\n",
    "\t//save edit distance in 7 distjoin csv file\n",
    "\tfor(int k=0;k<7;k++){\n",
    "\t\tstring name=\"output/\"+Gene[k]+\".csv\";\n",
    "\t\tofstream cout(name);\n",
    "\t\tfor(int i=0;i<5;i++){\n",
    "\t\t\tcout<<names[i];\n",
    "\t\t\tif(i!=4)cout<<\",\";\n",
    "\t\t}\n",
    "\t\tcout<<endl;\n",
    "\t\tfor(int i=0;i<5;i++){\n",
    "\t\t\tfor(int j=0;j<5;j++){\n",
    "\t\t\t\tcout<<mat[k][i][j];\n",
    "\t\t\t\tif(j!=4)cout<<\",\";\n",
    "\t\t\t}\n",
    "\t\t\tcout<<endl;\n",
    "\t\t}\n",
    "\t}\n",
    "\treturn 0;\n",
    "}\n"
   ]
  },
  {
   "cell_type": "markdown",
   "metadata": {},
   "source": [
    "ماتریس‌های به وجود آمده از کد را در قست زیر مشاهده می‌کنید.\n"
   ]
  },
  {
   "cell_type": "markdown",
   "metadata": {},
   "source": [
    "### NP"
   ]
  },
  {
   "cell_type": "code",
   "execution_count": null,
   "metadata": {
    "collapsed": true
   },
   "outputs": [],
   "source": [
    "Zaire,TaiForest,Sudan,Reston,Bundibugyo\n",
    "0,913,916,938,933\n",
    "913,0,1004,1002,821\n",
    "916,1004,0,955,1034\n",
    "938,1002,955,0,1016\n",
    "933,821,1034,1016,0"
   ]
  },
  {
   "cell_type": "markdown",
   "metadata": {},
   "source": [
    "### L"
   ]
  },
  {
   "cell_type": "code",
   "execution_count": null,
   "metadata": {
    "collapsed": true
   },
   "outputs": [],
   "source": [
    "Zaire,TaiForest,Sudan,Reston,Bundibugyo\n",
    "0,2183,2404,2402,2208\n",
    "2183,0,2404,2401,1934\n",
    "2404,2404,0,2455,2434\n",
    "2402,2401,2455,0,2422\n",
    "2208,1934,2434,2422,0"
   ]
  },
  {
   "cell_type": "markdown",
   "metadata": {},
   "source": [
    "### GP"
   ]
  },
  {
   "cell_type": "code",
   "execution_count": null,
   "metadata": {
    "collapsed": true
   },
   "outputs": [],
   "source": [
    "Zaire,TaiForest,Sudan,Reston,Bundibugyo\n",
    "0,979,1081,1088,956\n",
    "979,0,1070,1101,825\n",
    "1081,1070,0,1069,1095\n",
    "1088,1101,1069,0,1063\n",
    "956,825,1095,1063,0"
   ]
  },
  {
   "cell_type": "markdown",
   "metadata": {},
   "source": [
    "### VP24"
   ]
  },
  {
   "cell_type": "code",
   "execution_count": null,
   "metadata": {
    "collapsed": true
   },
   "outputs": [],
   "source": [
    "Zaire,TaiForest,Sudan,Reston,Bundibugyo\n",
    "0,443,482,464,432\n",
    "443,0,495,481,422\n",
    "482,495,0,469,493\n",
    "464,481,469,0,486\n",
    "432,422,493,486,0"
   ]
  },
  {
   "cell_type": "markdown",
   "metadata": {},
   "source": [
    "### VP30"
   ]
  },
  {
   "cell_type": "code",
   "execution_count": null,
   "metadata": {
    "collapsed": true
   },
   "outputs": [],
   "source": [
    "Zaire,TaiForest,Sudan,Reston,Bundibugyo\n",
    "0,422,481,460,407\n",
    "422,0,479,477,375\n",
    "481,479,0,507,469\n",
    "460,477,507,0,490\n",
    "407,375,469,490,0"
   ]
  },
  {
   "cell_type": "markdown",
   "metadata": {},
   "source": [
    "### VP35"
   ]
  },
  {
   "cell_type": "code",
   "execution_count": null,
   "metadata": {
    "collapsed": true
   },
   "outputs": [],
   "source": [
    "Zaire,TaiForest,Sudan,Reston,Bundibugyo\n",
    "0,547,600,601,567\n",
    "547,0,641,625,532\n",
    "600,641,0,593,611\n",
    "601,625,593,0,629\n",
    "567,532,611,629,0"
   ]
  },
  {
   "cell_type": "markdown",
   "metadata": {},
   "source": [
    "### VP40"
   ]
  },
  {
   "cell_type": "code",
   "execution_count": null,
   "metadata": {
    "collapsed": true
   },
   "outputs": [],
   "source": [
    "Zaire,TaiForest,Sudan,Reston,Bundibugyo\n",
    "0,714,510,488,723\n",
    "714,0,710,706,694\n",
    "510,710,0,492,704\n",
    "488,706,492,0,714\n",
    "723,694,704,714,0"
   ]
  },
  {
   "cell_type": "markdown",
   "metadata": {},
   "source": [
    "# درخت زندگی"
   ]
  },
  {
   "cell_type": "markdown",
   "metadata": {},
   "source": [
    "## ۳.۱\n",
    "در این بخش هدف پیدا کردن درخت فاصله‌ی این گونه‌ها است. برای این منظور از زبان R استفاده کردیم و هرکدام از ماتریس‌های داده شده را به وسیله‌ی پکیج phangorn و با استفاده از دو الگوریتم NJ و UPGMA درخت‌های مورد نظر را ساختیم و در فایل‌هایی با نام‌های خواسته شده ذخیره کردیم."
   ]
  },
  {
   "cell_type": "code",
   "execution_count": null,
   "metadata": {
    "collapsed": true
   },
   "outputs": [],
   "source": [
    "library(phangorn)\n",
    "library(ape)\n",
    "genes = c(\"NP\", \"L\", \"GP\", \"VP24\", \"VP30\", \"VP35\", \"VP40\")\n",
    "for(gene in genes){\n",
    "  path=paste(\"~/bio_project/bio/output/\",gene,\".csv\",sep=\"\")\n",
    "  matrix=read.csv(path,check.names=FALSE)\n",
    "  tree=upgma(matrix)\n",
    "  path=paste(\"~/bio_project/bio/output/upgma_\",gene,\".png\",sep=\"\")\n",
    "  png(path)\n",
    "  name=paste(gene,\"UPGMA\",\"Phylogenetic\",\"Tree\")\n",
    "  plot(tree,main=name)\n",
    "  dev.off()\n",
    "  tree=nj(as.dist(matrix))\n",
    "  path=paste(\"~/bio_project/bio/output/nj_\",gene,\".png\",sep=\"\")\n",
    "  png(path)\n",
    "  name=paste(gene,\"NJ\",\"Phylogenetic\",\"Tree\")\n",
    "  plot(tree,main=name)\n",
    "  dev.off()\n",
    "}"
   ]
  },
  {
   "cell_type": "markdown",
   "metadata": {},
   "source": [
    "درخت‌هایی که در کد بالا تولید می‌شوند به شکل زیر هستند."
   ]
  },
  {
   "cell_type": "markdown",
   "metadata": {},
   "source": [
    "<img src=\"output/nj_GP.png\"/>"
   ]
  },
  {
   "cell_type": "markdown",
   "metadata": {},
   "source": [
    "<img src=\"output/nj_NP.png\"/>"
   ]
  },
  {
   "cell_type": "markdown",
   "metadata": {},
   "source": [
    "<img src=\"output/nj_L.png\"/>"
   ]
  },
  {
   "cell_type": "markdown",
   "metadata": {},
   "source": [
    "<img src=\"output/nj_VP24.png\"/>"
   ]
  },
  {
   "cell_type": "markdown",
   "metadata": {},
   "source": [
    "<img src=\"output/nj_VP30.png\"/>"
   ]
  },
  {
   "cell_type": "markdown",
   "metadata": {},
   "source": [
    "<img src=\"output/nj_VP35.png\"/>"
   ]
  },
  {
   "cell_type": "markdown",
   "metadata": {},
   "source": [
    "<img src=\"output/nj_VP40.png\"/>"
   ]
  },
  {
   "cell_type": "markdown",
   "metadata": {},
   "source": [
    "<img src=\"output/upgma_GP.png\"/>"
   ]
  },
  {
   "cell_type": "markdown",
   "metadata": {},
   "source": [
    "<img src=\"output/upgma_NP.png\"/>"
   ]
  },
  {
   "cell_type": "markdown",
   "metadata": {},
   "source": [
    "<img src=\"output/upgma_L.png\"/>"
   ]
  },
  {
   "cell_type": "markdown",
   "metadata": {},
   "source": [
    "<img src=\"output/upgma_VP24.png\"/>"
   ]
  },
  {
   "cell_type": "markdown",
   "metadata": {},
   "source": [
    "<img src=\"output/upgma_VP30.png\"/>"
   ]
  },
  {
   "cell_type": "markdown",
   "metadata": {},
   "source": [
    "<img src=\"output/upgma_VP35.png\"/>"
   ]
  },
  {
   "cell_type": "markdown",
   "metadata": {},
   "source": [
    "<img src=\"output/upgma_VP40.png\"/>"
   ]
  },
  {
   "cell_type": "markdown",
   "metadata": {},
   "source": [
    "## ۳.۲\n",
    "پیدا کردن ترکیب این درخت‌ها اولین چالش جدی در پروژه بود که مدت زیادی برای پیدا کردن روشی برای پیدا کردن درخت‌ها وقت گرفت. دو روش برای این‌کار ارایه دادیم. روش اول با توجه به راهنمایی دستیار آموزشی بود که در آن از پکیج ape استفاده کردیم و درخت‌ها را به وسیله‌ی تابع  consensus و majority tree ترکیب کردیم. کدی که برای ترکیب درختان استفاده شده است به شکل زیر است."
   ]
  },
  {
   "cell_type": "code",
   "execution_count": null,
   "metadata": {
    "collapsed": true
   },
   "outputs": [],
   "source": [
    "library(phangorn)\n",
    "library(ape)\n",
    "genes = c(\"NP\", \"L\", \"GP\", \"VP24\", \"VP30\", \"VP35\", \"VP40\")\n",
    "trees = data.frame()\n",
    "for(gene in genes){\n",
    "  path=paste(\"~/bio_project/bio/output/\",gene,\".csv\",sep=\"\")\n",
    "  matrix=read.csv(path,check.names=FALSE)\n",
    "  tree=upgma(matrix)\n",
    "}\n",
    "matrix = read.csv(\"~/bio_project/bio/output/NP.csv\")\n",
    "tree_1 = upgma(matrix)\n",
    "matrix = read.csv(\"~/bio_project/bio/output/L.csv\")\n",
    "tree_2 = upgma(matrix)\n",
    "matrix = read.csv(\"~/bio_project/bio/output/GP.csv\")\n",
    "tree_3 = upgma(matrix)\n",
    "matrix = read.csv(\"~/bio_project/bio/output/VP24.csv\")\n",
    "tree_4 = upgma(matrix)\n",
    "matrix = read.csv(\"~/bio_project/bio/output/VP30.csv\")\n",
    "tree_5 = upgma(matrix)\n",
    "matrix = read.csv(\"~/bio_project/bio/output/VP35.csv\")\n",
    "tree_6 = upgma(matrix)\n",
    "matrix = read.csv(\"~/bio_project/bio/output/VP40.csv\")\n",
    "tree_7 = upgma(matrix)\n",
    "consensus_tree = consensus(tree_1,tree_2,tree_3,tree_4,tree_5,tree_6,tree_7, p = 0.5, check.labels = TRUE)\n",
    "path=paste(\"~/bio_project/bio/output/consenuns_tree.png\",sep=\"\")\n",
    "png(path)\n",
    "plot(consensus_tree)\n",
    "dev.off()"
   ]
  },
  {
   "cell_type": "markdown",
   "metadata": {},
   "source": [
    "که درخت حاصل به شکل زیر می‌شود."
   ]
  },
  {
   "cell_type": "markdown",
   "metadata": {},
   "source": [
    "<img src=\"output/consenuns_tree.png\">"
   ]
  },
  {
   "cell_type": "markdown",
   "metadata": {},
   "source": [
    "روش دیگری که استفاده کردیم به این صورت است که تمام قسمت‌های ژنوم را که متعلق به یک ژن نیستند را کنار گذاشتیم و بین قسمت‌های باقی مانده یک هم‌ترازی اجرا کردیم و سپس با استفاده از ماتریس به وجود آمده درخت متناظر با آن را رسم کردیم. توجیح این بخش به این دلیل است که قسمت‌های باقی مانده قسمت‌های functional هستند در نتیجه در تمایز این موجودات تاثیر بیشتری داشته اند. در نتیجه کاری که ما کردیم باعث می‌شود که تخمین دقیق تری‌داشته باشیم.\n",
    "کدی که برای هم‌ترازی قسمت‌های ژن دار ژنوم ها زده شده است به شکل زیر است."
   ]
  },
  {
   "cell_type": "code",
   "execution_count": null,
   "metadata": {
    "collapsed": true
   },
   "outputs": [],
   "source": [
    "#include<iostream>\n",
    "#include<fstream>\n",
    "#include<sstream>\n",
    "#include<vector>\n",
    "#include<map>\n",
    "\n",
    "using namespace std;\n",
    "\n",
    "int dp[20000][20000];\n",
    "int mat[7][5][5];\n",
    "const int inf=1e9;\n",
    "string con[5];\n",
    "\n",
    "map<pair<string,string>, pair<int,int> > m;  \n",
    "\n",
    "\n",
    "/**\n",
    "  finding edit distance of s and t\n",
    "  match = 0\n",
    "  mismatch = 1\n",
    "  gap = 1\n",
    "  return minimum edit distance of s and t\n",
    "  **/\n",
    "int align(string s, string t){\n",
    "\tint match=0,mismatch=1,gap=1,ret=inf;\n",
    "\tfor(int i=0;i<=s.size();i++)for(int j=0;j<=t.size();j++)dp[i][j]=inf;\n",
    "\tfor(int i=0;i<=s.size();i++)dp[i][0]=i;\n",
    "\tfor(int j=1;j<=t.size();j++)dp[0][j]=j;\n",
    "\tfor(int i=1;i<=s.size();i++){\n",
    "\t\tfor(int j=1;j<=t.size();j++){\n",
    "\t\t\tdp[i][j]=min(dp[i-1][j],dp[i][j-1])+gap;\n",
    "\t\t\tif(s[i-1]==t[j-1])dp[i][j]=min(dp[i][j],dp[i-1][j-1]+match);\n",
    "\t\t\telse dp[i][j]=min(dp[i][j],dp[i-1][j-1]+mismatch);\n",
    "\t\t}\n",
    "\t}\n",
    "\treturn dp[s.size()][t.size()];\n",
    "}\n",
    "\n",
    "//names of ebola\n",
    "string names[]={\n",
    "\t\"Zaire\", \"TaiForest\", \"Sudan\", \"Reston\", \"Bundibugyo\"\n",
    "};\n",
    "\n",
    "//names of genes\n",
    "string Gene[]={\n",
    "\t\"NP\", \"VP35\", \"VP40\", \"GP\", \"VP30\", \"VP24\", \"L\"\n",
    "};\n",
    "\n",
    "int main(){\n",
    "\tifstream cin(\"output/gene_alignment\");\n",
    "\tstring x,y;\n",
    "\tint lo,hi;\n",
    "\twhile(cin>>x>>y>>lo>>hi){\n",
    "\t\tm[make_pair(x,y)]=make_pair(lo,hi);\n",
    "\t}\n",
    "\n",
    "\t//concatenate genes for every ebolas\n",
    "\tfor(int i=0;i<5;i++){\n",
    "\t\tstring name=\"resources/\"+names[i]+\"_genome.fasta\";\n",
    "\t\tifstream cin(name);\n",
    "\t\tstring t=\"\";\n",
    "\t\tstring tmp;\n",
    "\t\tcin>>tmp;\n",
    "\t\tstring last=tmp.substr(1,tmp.size()-1);\n",
    "\t\tgetline(cin,tmp);\n",
    "\t\twhile(getline(cin,tmp)){\n",
    "\t\t\ttmp=tmp.substr(0,tmp.size()-1);\n",
    "\t\t\tt+=tmp;\n",
    "\t\t}\n",
    "\t\tstring left=t;\n",
    "\t\tfor(int k=0;k<7;k++){\n",
    "\t\t\tpair<int,int> range_left=m[make_pair(names[i],Gene[k])];\n",
    "\t\t\tstring new_left=left.substr(range_left.first,range_left.second-range_left.first);\n",
    "\t\t\tcon[i]+=new_left;\n",
    "\t\t}\n",
    "\t}\n",
    "\tofstream cout(\"output/concatenation.csv\");\n",
    "\tfor(int i=0;i<5;i++){\n",
    "\t\tcout<<names[i];\n",
    "\t\tif(i!=4)cout<<\",\";\n",
    "\t}\n",
    "\tcout<<endl;\n",
    "\t//finding edit distance of every pair of new strings\n",
    "\tfor(int i=0;i<5;i++){\n",
    "\t\tfor(int j=0;j<5;j++){\n",
    "\t\t\tcout<<align(con[i],con[j]);\n",
    "\t\t\tif(j!=4)cout<<\",\";\n",
    "\t\t}\n",
    "\t\tcout<<endl;\n",
    "\t}\n",
    "\treturn 0;\n",
    "}"
   ]
  },
  {
   "cell_type": "markdown",
   "metadata": {},
   "source": [
    "\n",
    "سپس ماتریس به دست آمده را با استفاده از همان الگوریتم‌های بخش قبل به درخت تبدیل می کنیم که کد و خروجی آن به شکل زیر است.\n"
   ]
  },
  {
   "cell_type": "code",
   "execution_count": null,
   "metadata": {
    "collapsed": true
   },
   "outputs": [],
   "source": [
    "library(phangorn)\n",
    "library(ape)\n",
    "matrix=read.csv(\"~/bio_project/bio/output/concatenation.csv\",check.names=FALSE)\n",
    "tree=upgma(matrix)\n",
    "png(\"~/bio_project/bio/output/concatenation_tree.png\")\n",
    "plot(tree,main=\"Concatenation Tree\")\n",
    "dev.off()"
   ]
  },
  {
   "cell_type": "markdown",
   "metadata": {},
   "source": [
    "<img src=\"output/concatenation_tree.png\"/>"
   ]
  },
  {
   "cell_type": "markdown",
   "metadata": {},
   "source": [
    "## ۳.۳\n",
    "در این بخش هم‌ترازی سراسری را خودمان پیاده سازی کردیم و این کار را با زبان $C++$ به دلیل سرعت بالایش انجام دادیم و سپس با بهینه سازی‌هایی که انجام دادیم و با استفاده از کامپایل کردن با پرچم $-O2$ توانستیم در زمان مناسب و کمتر از ۲ دقیقه ماتریس فاصله‌های این گونه‌ها از یکدیگر را به دست آوریم. کد پیدا کردن این ماتریس به شکل زیر است."
   ]
  },
  {
   "cell_type": "code",
   "execution_count": null,
   "metadata": {
    "collapsed": true
   },
   "outputs": [],
   "source": [
    "#include<iostream>\n",
    "#include<fstream>\n",
    "#include<sstream>\n",
    "#include<vector>\n",
    "#include<map>\n",
    "\n",
    "using namespace std;\n",
    "\n",
    "int dp[20000][20000];\n",
    "int mat[5][5];\n",
    "const int inf=1e9;\n",
    "\n",
    "map<pair<string,string>, pair<int,int> > m;  \n",
    "\n",
    "/**\n",
    "  finding edit distance of string s and t\n",
    "  match = 0\n",
    "  mismatch = 1\n",
    "  gap = 1\n",
    "  return minimum edit distance\n",
    "  **/\n",
    "int align(string s, string t){\n",
    "\tint match=0,mismatch=1,gap=1,ret=inf;\n",
    "\tfor(int i=0;i<=s.size();i++)for(int j=0;j<=t.size();j++)dp[i][j]=inf;\n",
    "\tfor(int i=0;i<=s.size();i++)dp[i][0]=i;\n",
    "\tfor(int j=1;j<=t.size();j++)dp[0][j]=j;\n",
    "\tfor(int i=1;i<=s.size();i++){\n",
    "\t\tfor(int j=1;j<=t.size();j++){\n",
    "\t\t\tdp[i][j]=min(dp[i-1][j],dp[i][j-1])+gap;\n",
    "\t\t\tif(s[i-1]==t[j-1])dp[i][j]=min(dp[i][j],dp[i-1][j-1]+match);\n",
    "\t\t\telse dp[i][j]=min(dp[i][j],dp[i-1][j-1]+mismatch);\n",
    "\t\t}\n",
    "\t}\n",
    "\treturn dp[s.size()][t.size()];\n",
    "}\n",
    "\n",
    "string names[]={\n",
    "\t\"Zaire\", \"TaiForest\", \"Sudan\", \"Reston\", \"Bundibugyo\"\n",
    "};\n",
    "\n",
    "int main(){\n",
    "\tifstream cin(\"output/gene_alignment\");\n",
    "\tstring x,y;\n",
    "\tint lo,hi;\n",
    "\twhile(cin>>x>>y>>lo>>hi){\n",
    "\t\tm[make_pair(x,y)]=make_pair(lo,hi);\n",
    "\t}\n",
    "\t//finding global edit distance for every two genome\n",
    "\tfor(int i=0;i<5;i++){\n",
    "\t\tstring name=\"resources/\"+names[i]+\"_genome.fasta\";\n",
    "\t\tifstream cin(name);\n",
    "\t\tstring t=\"\";\n",
    "\t\tstring tmp;\n",
    "\t\tcin>>tmp;\n",
    "\t\tstring last=tmp.substr(1,tmp.size()-1);\n",
    "\t\tgetline(cin,tmp);\n",
    "\t\twhile(getline(cin,tmp)){\n",
    "\t\t\ttmp=tmp.substr(0,tmp.size()-1);\n",
    "\t\t\tt+=tmp;\n",
    "\t\t}\n",
    "\t\tstring left=t;\n",
    "\t\tfor(int j=0;j<5;j++){\n",
    "\t\t\tname=\"resources/\"+names[j]+\"_genome.fasta\";\n",
    "\t\t\tifstream cin(name);\n",
    "\t\t\tt=\"\";\n",
    "\t\t\tcin>>tmp;\n",
    "\t\t\tlast=tmp.substr(1,tmp.size()-1);\n",
    "\t\t\tgetline(cin,tmp);\n",
    "\t\t\twhile(getline(cin,tmp)){\n",
    "\t\t\t\ttmp=tmp.substr(0,tmp.size()-1);\n",
    "\t\t\t\tt+=tmp;\n",
    "\t\t\t}\n",
    "\t\t\tstring right=t;\n",
    "\t\t\tmat[i][j]=align(left,right);\n",
    "\t\t}\n",
    "\t}\n",
    "\t//saving edit distance matrix in global.csv\n",
    "\tofstream cout(\"output/global.csv\");\n",
    "\tfor(int i=0;i<5;i++){\n",
    "\t\tcout<<names[i];\n",
    "\t\tif(i!=4)cout<<\",\";\n",
    "\t}\n",
    "\tcout<<endl;\n",
    "\tfor(int i=0;i<5;i++){\n",
    "\t\tfor(int j=0;j<5;j++){\n",
    "\t\t\tcout<<mat[i][j];\n",
    "\t\t\tif(j!=4)cout<<\",\";\n",
    "\t\t}\n",
    "\t\tcout<<endl;\n",
    "\t}\n",
    "\treturn 0;\n",
    "}"
   ]
  },
  {
   "cell_type": "markdown",
   "metadata": {},
   "source": [
    "ماتریس به وجود آمده از کد بالا به شکل زیر است."
   ]
  },
  {
   "cell_type": "code",
   "execution_count": null,
   "metadata": {
    "collapsed": true
   },
   "outputs": [],
   "source": [
    "Zaire,TaiForest,Sudan,Reston,Bundibugyo\n",
    "0,6209,6740,6697,6247\n",
    "6209,0,6804,6783,5530\n",
    "6740,6804,0,6788,6815\n",
    "6697,6783,6788,0,6797\n",
    "6247,5530,6815,6797,0"
   ]
  },
  {
   "cell_type": "markdown",
   "metadata": {},
   "source": [
    "سپس با استفاده از کد R زیر درخت متناظر را رسم می‌کنیم."
   ]
  },
  {
   "cell_type": "code",
   "execution_count": null,
   "metadata": {
    "collapsed": true
   },
   "outputs": [],
   "source": [
    "library(phangorn)\n",
    "library(ape)\n",
    "matrix=read.csv(\"~/bio_project/bio/output/global.csv\",check.names=FALSE)\n",
    "tree=upgma(matrix)\n",
    "png(\"~/bio_project/bio/output/global_tree.png\")\n",
    "plot(tree,main=\"Global Tree\")\n",
    "dev.off()"
   ]
  },
  {
   "cell_type": "markdown",
   "metadata": {},
   "source": [
    "<img src=\"output/global_tree.png\"/>"
   ]
  },
  {
   "cell_type": "markdown",
   "metadata": {},
   "source": [
    "## ۳.۴\n",
    "در این بخش نیز ماتریس فاصله‌های دو به دو را به وسیله‌ی کد زیر به دست می‌آوریم و سپس به کد R می‌دهیم و درخت آن را به دست می‌آوریم."
   ]
  },
  {
   "cell_type": "code",
   "execution_count": null,
   "metadata": {
    "collapsed": true
   },
   "outputs": [],
   "source": [
    "#include<iostream>\n",
    "#include<fstream>\n",
    "#include<sstream>\n",
    "#include<vector>\n",
    "#include<map>\n",
    "\n",
    "using namespace std;\n",
    "\n",
    "int dp[20000][20000];\n",
    "int mat[7][5][5];\n",
    "const int inf=1e9;\n",
    "string con[5];\n",
    "\n",
    "map<pair<string,string>, pair<int,int> > m;  \n",
    "\n",
    "/**\n",
    "  finding edit distance between s and t\n",
    "  match = 0\n",
    "  mismatch = 1\n",
    "  gap 1\n",
    "  return edit distance between s and t\n",
    "  **/\n",
    "\n",
    "int align(string s, string t){\n",
    "\tint match=0,mismatch=1,gap=1,ret=inf;\n",
    "\tfor(int i=0;i<=s.size();i++)for(int j=0;j<=t.size();j++)dp[i][j]=inf;\n",
    "\tfor(int i=0;i<=s.size();i++)dp[i][0]=i;\n",
    "\tfor(int j=1;j<=t.size();j++)dp[0][j]=j;\n",
    "\tfor(int i=1;i<=s.size();i++){\n",
    "\t\tfor(int j=1;j<=t.size();j++){\n",
    "\t\t\tdp[i][j]=min(dp[i-1][j],dp[i][j-1])+gap;\n",
    "\t\t\tif(s[i-1]==t[j-1])dp[i][j]=min(dp[i][j],dp[i-1][j-1]+match);\n",
    "\t\t\telse dp[i][j]=min(dp[i][j],dp[i-1][j-1]+mismatch);\n",
    "\t\t}\n",
    "\t}\n",
    "\treturn dp[s.size()][t.size()];\n",
    "}\n",
    "\n",
    "//names of ebolas\n",
    "string names[]={\n",
    "\t\"Zaire\", \"TaiForest\", \"Sudan\", \"Reston\", \"Bundibugyo\", \"Marburg\"\n",
    "};\n",
    "\n",
    "//names of genes\n",
    "string Gene[]={\n",
    "\t\"NP\", \"VP35\", \"VP40\", \"GP\", \"VP30\", \"VP24\", \"L\"\n",
    "};\n",
    "\n",
    "int main(){\n",
    "\tifstream cin(\"output/gene_alignment\");\n",
    "\tstring x,y;\n",
    "\tint lo,hi;\n",
    "\twhile(cin>>x>>y>>lo>>hi){\n",
    "\t\tm[make_pair(x,y)]=make_pair(lo,hi);\n",
    "\t}\n",
    "\tfor(int i=0;i<5;i++){\n",
    "\t\tstring name=\"resources/\"+names[i]+\"_genome.fasta\";\n",
    "\t\tifstream cin(name);\n",
    "\t\tstring t=\"\";\n",
    "\t\tstring tmp;\n",
    "\t\tcin>>tmp;\n",
    "\t\tstring last=tmp.substr(1,tmp.size()-1);\n",
    "\t\tgetline(cin,tmp);\n",
    "\t\twhile(getline(cin,tmp)){\n",
    "\t\t\ttmp=tmp.substr(0,tmp.size()-1);\n",
    "\t\t\tt+=tmp;\n",
    "\t\t}\n",
    "\t\tstring left=t;\n",
    "\t\tfor(int k=0;k<7;k++){\n",
    "\t\t\tpair<int,int> range_left=m[make_pair(names[i],Gene[k])];\n",
    "\t\t\tstring new_left=left.substr(range_left.first,range_left.second-range_left.first);\n",
    "\t\t\tcon[i]+=new_left;\n",
    "\t\t}\n",
    "\t}\n",
    "\t{\n",
    "\t\tstring t=\"\";\n",
    "\t\tstring tmp;\n",
    "\t\tifstream cin(\"resources/Marburg_Genes.fasta\");\n",
    "\t\tcin>>tmp;\n",
    "\t\tgetline(cin,tmp);\n",
    "\t\twhile(getline(cin,tmp)){\n",
    "\t\t\tif(tmp[0]=='>'){\n",
    "\t\t\t\tcontinue;\n",
    "\t\t\t}\n",
    "\t\t\ttmp=tmp.substr(0,tmp.size()-1);\n",
    "\t\t\tt+=tmp;\n",
    "\t\t}\n",
    "\t\tcon[5]=t;\n",
    "\t}\n",
    "\tofstream cout(\"output/marburg.csv\");\n",
    "\tfor(int i=0;i<6;i++){\n",
    "\t\tcout<<names[i];\n",
    "\t\tif(i!=5)cout<<\",\";\n",
    "\t}\n",
    "\tcout<<endl;\n",
    "\tfor(int i=0;i<6;i++){\n",
    "\t\tfor(int j=0;j<6;j++){\n",
    "\t\t\tcout<<align(con[i],con[j]);\n",
    "\t\t\tif(j!=5)cout<<\",\";\n",
    "\t\t}\n",
    "\t\tcout<<endl;\n",
    "\t}\n",
    "\treturn 0;\n",
    "}"
   ]
  },
  {
   "cell_type": "code",
   "execution_count": null,
   "metadata": {
    "collapsed": true
   },
   "outputs": [],
   "source": [
    "library(phangorn)\n",
    "library(ape)\n",
    "matrix=read.csv(\"~/bio_project/bio/output/marburg.csv\",check.names=FALSE)\n",
    "tree=upgma(matrix)\n",
    "png(\"~/bio_project/bio/output/marburg_tree.png\")\n",
    "plot(tree,main=\"Marburg Tree\")\n",
    "dev.off()"
   ]
  },
  {
   "cell_type": "markdown",
   "metadata": {},
   "source": [
    "<img src=\"output/marburg_tree.png\"/>"
   ]
  },
  {
   "cell_type": "markdown",
   "metadata": {},
   "source": [
    "# تخمین گذشته، پیشبینی آینده!"
   ]
  },
  {
   "cell_type": "markdown",
   "metadata": {},
   "source": [
    "## ۴.۱\n",
    "از مدل jukes catur استفاده شده است که در بخش نظری راجع به آن توضیح داده شده است."
   ]
  },
  {
   "cell_type": "code",
   "execution_count": null,
   "metadata": {
    "collapsed": true
   },
   "outputs": [],
   "source": [
    "genome_length=c(18890,18874,18934,18954,18939)\n",
    "global=read.csv(file =\"~/bio_project/bio/output/global.csv\",check.names=FALSE)\n",
    "times=global\n",
    "for (i in 1:5)\n",
    "  for(j in 1:5)\n",
    "    times[[i,j]]=-1/(1.9*10^(-3))*log(1-4/3*global[[i,j]]/((genome_length[i]+genome_length[j])/2))\n",
    "times"
   ]
  },
  {
   "cell_type": "code",
   "execution_count": null,
   "metadata": {
    "collapsed": true
   },
   "outputs": [],
   "source": [
    "     Zaire TaiForest    Sudan   Reston Bundibugyo\n",
    "1   0.0000  303.7056 339.3191 336.0388   305.5132\n",
    "2 303.7056    0.0000 344.0690 342.3171   260.1468\n",
    "3 339.3191  344.0690   0.0000 341.9085   344.0193\n",
    "4 336.0388  342.3171 341.9085   0.0000   342.4836\n",
    "5 305.5132  260.1468 344.0193 342.4836     0.0000"
   ]
  }
 ],
 "metadata": {
  "anaconda-cloud": {},
  "kernelspec": {
   "display_name": "Python [Root]",
   "language": "python",
   "name": "Python [Root]"
  },
  "language_info": {
   "codemirror_mode": {
    "name": "ipython",
    "version": 3
   },
   "file_extension": ".py",
   "mimetype": "text/x-python",
   "name": "python",
   "nbconvert_exporter": "python",
   "pygments_lexer": "ipython3",
   "version": "3.5.2"
  }
 },
 "nbformat": 4,
 "nbformat_minor": 0
}
